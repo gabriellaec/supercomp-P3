{
 "cells": [
  {
   "cell_type": "markdown",
   "metadata": {},
   "source": [
    "# Busca Exaustiva"
   ]
  },
  {
   "cell_type": "markdown",
   "metadata": {},
   "source": [
    "Esta etapa do projeto utilizou a estratégia de Busca Exaustiva, em que uma solução ótima de um problema é encontrada, por meio da geração de todas as soluções possíveis.\n",
    "\n",
    "Sendo uma entrada composta por duas sequências de DNA (A e B), o código implementado funciona por meio das seguintes etapas:\n",
    "\n",
    "1. Geração de todas as subsequências de A e de B\n",
    "2. Cálculo dos alinhamentos de cada par de subsequencias de A e de B (com os pesos wmat, wmis e wgap). Foram utilizadas as seguintes estratégias para o cálculo:\n",
    "\n",
    "    2.1. Alinhamento pelo método de Smith Waterman\n",
    "\n",
    "    2.2. Score simples, por meio de uma comparação direta entre as duas subsequências, sendo a maior truncada para que ambas possuam o mesmo tamanho\n",
    "    \n",
    "    2.3. Uma mistura das duas estratégias descritas acima, sendo o score simples utilizado no cálculo de quando as sequências possuem o mesmo tamanho e o método de Smith Waterman, caso contrário.\n",
    "\n",
    "3. A saída do programa será composta do score de alinhamento, além das subsequências correspondentes alinhadas."
   ]
  },
  {
   "cell_type": "markdown",
   "metadata": {},
   "source": [
    "## Comparação dos desempenhos"
   ]
  },
  {
   "cell_type": "code",
   "execution_count": 36,
   "metadata": {},
   "outputs": [],
   "source": [
    "import subprocess\n",
    "import time\n",
    "import pandas as pd\n",
    "import matplotlib.pyplot as plt"
   ]
  },
  {
   "cell_type": "code",
   "execution_count": 37,
   "metadata": {},
   "outputs": [],
   "source": [
    "def roda_com_entrada(executavel, arquivo_in):\n",
    "    with open(f\"in/{arquivo_in}\") as f:\n",
    "        start = time.perf_counter()\n",
    "        proc = subprocess.run([f\"./exe/{executavel}\"], input=f.read(), text=True, capture_output=True)\n",
    "        end = time.perf_counter()\n",
    "        \n",
    "        return(proc.stdout, (end - start))"
   ]
  },
  {
   "cell_type": "code",
   "execution_count": 38,
   "metadata": {},
   "outputs": [],
   "source": [
    "executaveis = [\"busca_exaustiva\",\"busca_exaustiva_score_simples\",\"busca_exaustiva_smith_waterman\"]\n",
    "arquivos=[]\n",
    "for i in range(10):\n",
    "    arquivos.append(f\"dna{i}.seq\")"
   ]
  },
  {
   "cell_type": "code",
   "execution_count": 39,
   "metadata": {},
   "outputs": [
    {
     "name": "stdout",
     "output_type": "stream",
     "text": [
      "busca_exaustiva\n",
      "dna0.seq\n",
      "dna1.seq\n",
      "dna2.seq\n",
      "dna3.seq\n",
      "dna4.seq\n",
      "dna5.seq\n",
      "dna6.seq\n",
      "dna7.seq\n",
      "dna8.seq\n",
      "dna9.seq\n",
      "busca_exaustiva_score_simples\n",
      "dna0.seq\n",
      "dna1.seq\n",
      "dna2.seq\n",
      "dna3.seq\n",
      "dna4.seq\n",
      "dna5.seq\n",
      "dna6.seq\n",
      "dna7.seq\n",
      "dna8.seq\n",
      "dna9.seq\n",
      "busca_exaustiva_smith_waterman\n",
      "dna0.seq\n",
      "dna1.seq\n",
      "dna2.seq\n",
      "dna3.seq\n",
      "dna4.seq\n",
      "dna5.seq\n",
      "dna6.seq\n",
      "dna7.seq\n",
      "dna8.seq\n",
      "dna9.seq\n"
     ]
    }
   ],
   "source": [
    "dic={}\n",
    "for executavel in executaveis:\n",
    "    print(executavel)\n",
    "    dic[executavel] = {\n",
    "        \"results\": None,\n",
    "        \"times\" : None\n",
    "    }\n",
    "    results=[]\n",
    "    times=[]\n",
    "    for arquivo_in in arquivos:\n",
    "        print(arquivo_in)\n",
    "        \n",
    "        desempenho = roda_com_entrada(executavel, arquivo_in)\n",
    "        results.append(desempenho[0])\n",
    "        times.append(desempenho[1])\n",
    "\n",
    "    dic[executavel][\"results\"] = results\n",
    "    dic[executavel][\"times\"] = times\n"
   ]
  },
  {
   "cell_type": "code",
   "execution_count": 40,
   "metadata": {},
   "outputs": [
    {
     "data": {
      "text/html": [
       "<div>\n",
       "<style scoped>\n",
       "    .dataframe tbody tr th:only-of-type {\n",
       "        vertical-align: middle;\n",
       "    }\n",
       "\n",
       "    .dataframe tbody tr th {\n",
       "        vertical-align: top;\n",
       "    }\n",
       "\n",
       "    .dataframe thead th {\n",
       "        text-align: right;\n",
       "    }\n",
       "</style>\n",
       "<table border=\"1\" class=\"dataframe\">\n",
       "  <thead>\n",
       "    <tr style=\"text-align: right;\">\n",
       "      <th></th>\n",
       "      <th>busca_exaustiva</th>\n",
       "      <th>busca_exaustiva_score_simples</th>\n",
       "      <th>busca_exaustiva_smith_waterman</th>\n",
       "    </tr>\n",
       "  </thead>\n",
       "  <tbody>\n",
       "    <tr>\n",
       "      <th>results</th>\n",
       "      <td>[0, 6, 13, 18, 28, 27, 35, 43, 42, 56]</td>\n",
       "      <td>[0, 5, 7, 11, 16, 16, 13, 15, 13, 12]</td>\n",
       "      <td>[0, 6, 13, 18, 28, 27, 35, 43, 42, 56]</td>\n",
       "    </tr>\n",
       "    <tr>\n",
       "      <th>times</th>\n",
       "      <td>[0.006087206000302103, 0.00836404500023491, 0....</td>\n",
       "      <td>[0.0043600520002655685, 0.00454135000018141, 0...</td>\n",
       "      <td>[0.004189940999822284, 0.005805716999930155, 0...</td>\n",
       "    </tr>\n",
       "  </tbody>\n",
       "</table>\n",
       "</div>"
      ],
      "text/plain": [
       "                                           busca_exaustiva  \\\n",
       "results             [0, 6, 13, 18, 28, 27, 35, 43, 42, 56]   \n",
       "times    [0.006087206000302103, 0.00836404500023491, 0....   \n",
       "\n",
       "                             busca_exaustiva_score_simples  \\\n",
       "results              [0, 5, 7, 11, 16, 16, 13, 15, 13, 12]   \n",
       "times    [0.0043600520002655685, 0.00454135000018141, 0...   \n",
       "\n",
       "                            busca_exaustiva_smith_waterman  \n",
       "results             [0, 6, 13, 18, 28, 27, 35, 43, 42, 56]  \n",
       "times    [0.004189940999822284, 0.005805716999930155, 0...  "
      ]
     },
     "execution_count": 40,
     "metadata": {},
     "output_type": "execute_result"
    }
   ],
   "source": [
    "df = pd.DataFrame(dic)\n",
    "df"
   ]
  },
  {
   "cell_type": "code",
   "execution_count": 45,
   "metadata": {},
   "outputs": [
    {
     "data": {
      "text/html": [
       "<div>\n",
       "<style scoped>\n",
       "    .dataframe tbody tr th:only-of-type {\n",
       "        vertical-align: middle;\n",
       "    }\n",
       "\n",
       "    .dataframe tbody tr th {\n",
       "        vertical-align: top;\n",
       "    }\n",
       "\n",
       "    .dataframe thead tr th {\n",
       "        text-align: left;\n",
       "    }\n",
       "</style>\n",
       "<table border=\"1\" class=\"dataframe\">\n",
       "  <thead>\n",
       "    <tr>\n",
       "      <th></th>\n",
       "      <th colspan=\"2\" halign=\"left\">busca_exaustiva</th>\n",
       "      <th colspan=\"2\" halign=\"left\">busca_exaustiva_score_simples</th>\n",
       "      <th colspan=\"2\" halign=\"left\">busca_exaustiva_smith_waterman</th>\n",
       "    </tr>\n",
       "    <tr>\n",
       "      <th></th>\n",
       "      <th>results</th>\n",
       "      <th>times</th>\n",
       "      <th>results</th>\n",
       "      <th>times</th>\n",
       "      <th>results</th>\n",
       "      <th>times</th>\n",
       "    </tr>\n",
       "  </thead>\n",
       "  <tbody>\n",
       "    <tr>\n",
       "      <th>0</th>\n",
       "      <td>0</td>\n",
       "      <td>0.006087</td>\n",
       "      <td>0</td>\n",
       "      <td>0.004360</td>\n",
       "      <td>0</td>\n",
       "      <td>0.004190</td>\n",
       "    </tr>\n",
       "    <tr>\n",
       "      <th>1</th>\n",
       "      <td>6</td>\n",
       "      <td>0.008364</td>\n",
       "      <td>5</td>\n",
       "      <td>0.004541</td>\n",
       "      <td>6</td>\n",
       "      <td>0.005806</td>\n",
       "    </tr>\n",
       "    <tr>\n",
       "      <th>2</th>\n",
       "      <td>13</td>\n",
       "      <td>0.069038</td>\n",
       "      <td>7</td>\n",
       "      <td>0.015711</td>\n",
       "      <td>13</td>\n",
       "      <td>0.066766</td>\n",
       "    </tr>\n",
       "    <tr>\n",
       "      <th>3</th>\n",
       "      <td>18</td>\n",
       "      <td>0.498826</td>\n",
       "      <td>11</td>\n",
       "      <td>0.072276</td>\n",
       "      <td>18</td>\n",
       "      <td>0.551461</td>\n",
       "    </tr>\n",
       "    <tr>\n",
       "      <th>4</th>\n",
       "      <td>28</td>\n",
       "      <td>2.359014</td>\n",
       "      <td>16</td>\n",
       "      <td>0.246512</td>\n",
       "      <td>28</td>\n",
       "      <td>2.573910</td>\n",
       "    </tr>\n",
       "    <tr>\n",
       "      <th>5</th>\n",
       "      <td>27</td>\n",
       "      <td>8.136351</td>\n",
       "      <td>16</td>\n",
       "      <td>0.823848</td>\n",
       "      <td>27</td>\n",
       "      <td>9.485781</td>\n",
       "    </tr>\n",
       "    <tr>\n",
       "      <th>6</th>\n",
       "      <td>35</td>\n",
       "      <td>23.681985</td>\n",
       "      <td>13</td>\n",
       "      <td>2.291528</td>\n",
       "      <td>35</td>\n",
       "      <td>26.213335</td>\n",
       "    </tr>\n",
       "    <tr>\n",
       "      <th>7</th>\n",
       "      <td>43</td>\n",
       "      <td>57.916238</td>\n",
       "      <td>15</td>\n",
       "      <td>3.551747</td>\n",
       "      <td>43</td>\n",
       "      <td>65.512087</td>\n",
       "    </tr>\n",
       "    <tr>\n",
       "      <th>8</th>\n",
       "      <td>42</td>\n",
       "      <td>130.894090</td>\n",
       "      <td>13</td>\n",
       "      <td>6.874170</td>\n",
       "      <td>42</td>\n",
       "      <td>134.762550</td>\n",
       "    </tr>\n",
       "    <tr>\n",
       "      <th>9</th>\n",
       "      <td>56</td>\n",
       "      <td>277.301057</td>\n",
       "      <td>12</td>\n",
       "      <td>12.698820</td>\n",
       "      <td>56</td>\n",
       "      <td>277.103201</td>\n",
       "    </tr>\n",
       "  </tbody>\n",
       "</table>\n",
       "</div>"
      ],
      "text/plain": [
       "  busca_exaustiva             busca_exaustiva_score_simples             \\\n",
       "          results       times                       results      times   \n",
       "0               0    0.006087                             0   0.004360   \n",
       "1               6    0.008364                             5   0.004541   \n",
       "2              13    0.069038                             7   0.015711   \n",
       "3              18    0.498826                            11   0.072276   \n",
       "4              28    2.359014                            16   0.246512   \n",
       "5              27    8.136351                            16   0.823848   \n",
       "6              35   23.681985                            13   2.291528   \n",
       "7              43   57.916238                            15   3.551747   \n",
       "8              42  130.894090                            13   6.874170   \n",
       "9              56  277.301057                            12  12.698820   \n",
       "\n",
       "  busca_exaustiva_smith_waterman              \n",
       "                         results       times  \n",
       "0                              0    0.004190  \n",
       "1                              6    0.005806  \n",
       "2                             13    0.066766  \n",
       "3                             18    0.551461  \n",
       "4                             28    2.573910  \n",
       "5                             27    9.485781  \n",
       "6                             35   26.213335  \n",
       "7                             43   65.512087  \n",
       "8                             42  134.762550  \n",
       "9                             56  277.103201  "
      ]
     },
     "execution_count": 45,
     "metadata": {},
     "output_type": "execute_result"
    }
   ],
   "source": [
    "# https://www.geeksforgeeks.org/nested-dictionary-to-multiindex-dataframe/\n",
    "reformed_dict = {}\n",
    "for outerKey, innerDict in dic.items():\n",
    "    for innerKey, values in innerDict.items():\n",
    "        reformed_dict[(outerKey,\n",
    "                       innerKey)] = values\n",
    "        \n",
    "multiIndex_df = pd.DataFrame(reformed_dict)\n",
    "multiIndex_df"
   ]
  },
  {
   "cell_type": "code",
   "execution_count": 54,
   "metadata": {},
   "outputs": [],
   "source": [
    "valores=[1]\n",
    "for i in range (1,10):\n",
    "    valores.append(valores[i-1]+10)\n"
   ]
  },
  {
   "cell_type": "markdown",
   "metadata": {},
   "source": [
    "## Comparação de tempo"
   ]
  },
  {
   "cell_type": "code",
   "execution_count": 66,
   "metadata": {
    "scrolled": true
   },
   "outputs": [
    {
     "data": {
      "text/plain": [
       "Text(0.5, 1.0, 'Gráfico do tempo em função do tamanho da sequência\\n')"
      ]
     },
     "execution_count": 66,
     "metadata": {},
     "output_type": "execute_result"
    },
    {
     "data": {
      "image/png": "[encoded data removed]",
      "text/plain": [
       "<Figure size 432x288 with 1 Axes>"
      ]
     },
     "metadata": {
      "needs_background": "light"
     },
     "output_type": "display_data"
    }
   ],
   "source": [
    "for exe in df.columns.values.tolist():\n",
    "    plt.plot(valores,multiIndex_df[exe][\"times\"].values, label=exe)\n",
    "plt.legend()\n",
    "plt.xlabel(\"tamanho da sequência\", \n",
    "           fontsize=15,\n",
    "          color=\"steelblue\")\n",
    "plt.ylabel(\"tempo\", \n",
    "           fontsize=15,\n",
    "          color=\"steelblue\")\n",
    "plt.title(label=\"Gráfico do tempo em função do tamanho da sequência\\n\",\n",
    "          fontsize=20,\n",
    "          color=\"teal\")"
   ]
  },
  {
   "cell_type": "markdown",
   "metadata": {},
   "source": [
    "## Comparação de valores"
   ]
  },
  {
   "cell_type": "code",
   "execution_count": 64,
   "metadata": {
    "scrolled": true
   },
   "outputs": [
    {
     "data": {
      "text/plain": [
       "Text(0.5, 1.0, 'Gráfico do valor máximo encontrado em função do tamanho da sequência\\n')"
      ]
     },
     "execution_count": 64,
     "metadata": {},
     "output_type": "execute_result"
    },
    {
     "data": {
      "image/png": "[encoded data removed]",
      "text/plain": [
       "<Figure size 432x288 with 1 Axes>"
      ]
     },
     "metadata": {
      "needs_background": "light"
     },
     "output_type": "display_data"
    }
   ],
   "source": [
    "for exe in df.columns.values.tolist():\n",
    "    plt.plot(valores,multiIndex_df[exe][\"results\"].values.astype(float), label=exe)\n",
    "plt.legend()\n",
    "plt.xlabel(\"tamanho da sequência\", \n",
    "           fontsize=15,\n",
    "          color=\"steelblue\")\n",
    "plt.ylabel(\"valor máximo\", \n",
    "           fontsize=15,\n",
    "          color=\"steelblue\")\n",
    "plt.title(label=\"Gráfico do valor máximo encontrado em função do tamanho da sequência\\n\",\n",
    "          fontsize=20,\n",
    "          color=\"teal\")"
   ]
  },
  {
   "cell_type": "markdown",
   "metadata": {},
   "source": [
    "## Conclusões"
   ]
  },
  {
   "cell_type": "markdown",
   "metadata": {},
   "source": [
    "O gráfico do tempo em função do tamanho da sequência mostrou que o desempenho da busca exaustiva com o alinhamento calculado pelo método de Smith Waterman (em verde) teve um desempenho muito similar em termos de velocidade ao método que mesclava Smith Waterman com o cálculo de score simples (em azul). Ambos aparentam possuir complexidade O(n²), apresentando uma curva exponencial\n",
    "\n",
    "Este resultado condiz com o esperado, pois ao gerar todas as subsequências possíveis e calcular seus respectivos scores, na maior parte das comparações o tamanho entre as sequências será diferente, de forma que na realidade a maior parte dos cálculos se dará pelo próprio método de Smith Waterman. \n",
    "\n",
    "Por precisar montar uma matriz e calcular o score em cada posição com dependência dos valores das posições vizinhas, este método é de fato mais demorado. Além disso, ele inclui a reconstrução do alinhamento das sequências, em que um caminho dentro da matriz deve ser percorrido novamente. O processo como um todo é bem mais complexo do que uma comparação simples, feita a partir de uma mesma posição em duas sequências distintas, o que consequentemente eleva significativamente o tempo de processamento.\n",
    "\n",
    "Além disso, é possível observar que existe um limiar em torno do tamanho da sequência igual a 40, a partir do qual o tempo de processamento dos programas com o uso do método de Smith Waterman cresce mais.\n",
    "\n",
    "Ou seja, a partir de tal limiar, a utilização de tais métodos pode apresentar desvantagens em relação ao tempo de processamento, sendo que quanto maior o tamanho da sequência, pior será o desempenho.\n",
    "\n",
    "Contudo, estes métodos apresentaram vantagens em relação ao desempenho, como mostra o gráfico do valor máximo encontrado em função do tamanho da sequência.\n",
    "\n",
    "Para tamanhos de sequência menores (cerca de abaixo de 10), os resultados do alinhamento calculado por Smith Waterman e pelo método de alinhamento simples não diferiram significativamente. Porém, conforme o tamanho da sequência aumenta, o gráfico mostra que o cálculo por score simples possui um desempenho nitidamente inferior. Isso se dá pelo fato deste método não considerar os gaps no alinhamento, conforme é calculado no método de Smith Waterman."
   ]
  }
 ],
 "metadata": {
  "kernelspec": {
   "display_name": "Python 3",
   "language": "python",
   "name": "python3"
  },
  "language_info": {
   "codemirror_mode": {
    "name": "ipython",
    "version": 3
   },
   "file_extension": ".py",
   "mimetype": "text/x-python",
   "name": "python",
   "nbconvert_exporter": "python",
   "pygments_lexer": "ipython3",
   "version": "3.8.10"
  }
 },
 "nbformat": 4,
 "nbformat_minor": 4
}
